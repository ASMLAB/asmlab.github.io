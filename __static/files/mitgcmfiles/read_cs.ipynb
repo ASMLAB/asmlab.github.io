{
 "cells": [
  {
   "cell_type": "code",
   "execution_count": 1,
   "metadata": {},
   "outputs": [],
   "source": [
    "import numpy as np"
   ]
  },
  {
   "cell_type": "code",
   "execution_count": 21,
   "metadata": {},
   "outputs": [],
   "source": [
    "def readvar_cs(odir, varname, it=None):\n",
    "\n",
    "    # metafile\n",
    "    if it != None:\n",
    "        metafile = odir+varname+'.{0:010d}'.format(int(it))+'.001.001.meta'\n",
    "    else:\n",
    "        metafile = odir+varname+'.001.001.meta'\n",
    "\n",
    "    # read metafile\n",
    "    try:\n",
    "        lines = open(metafile)\n",
    "    except TypeError:\n",
    "        lines = iter(metafile)\n",
    "\n",
    "    # get info from metafile\n",
    "    for line in lines:\n",
    "        if 'nDims' in line:\n",
    "            if '3' in line:\n",
    "                ndim = 3\n",
    "            elif '2' in line:\n",
    "                ndim = 2\n",
    "        if 'dataprec' in line:\n",
    "            if '64' in line:\n",
    "                prec_str = '>f8'\n",
    "            elif '32' in line:\n",
    "                prec_str = '>f4'\n",
    "        \n",
    "    # Read variable\n",
    "    if ndim==2:\n",
    "        varall = np.empty([32*3, 32*4])*np.nan\n",
    "        data = np.zeros([6, 32, 32])\n",
    "    elif ndim==3:\n",
    "        varall = np.empty([5, 32*3, 32*4])*np.nan\n",
    "        data = np.zeros([6, 5, 32, 32])\n",
    "\n",
    "    for i in range(6):\n",
    "        if it !=None:\n",
    "            fname = odir+varname+'.{0:010d}'.format(int(it))+'.00'+str(i+1)+'.001.data'\n",
    "        else:\n",
    "            fname = odir+varname+'.00'+str(i+1)+'.001.data'\n",
    "    \n",
    "        with open(fname, 'rb') as f:\n",
    "            data[i] = np.fromfile(f, prec_str).reshape(-1,32,32)\n",
    "        # if ndim==2:\n",
    "        #     data = data.reshape(32,32)\n",
    "        # elif ndim==3:\n",
    "        #     data = data.reshape(5,32,32)\n",
    "        # ax[i].imshow(data[i], origin='lower', vmax=2000)\n",
    "    if ndim==2:\n",
    "        varall[32:32*2, :32] = data[0]\n",
    "        varall[32:32*2, 32:32*2] = data[1]\n",
    "        varall[32*2:32*3, 32:32*2] = data[2]\n",
    "        varall[32:32*2, 32*2:32*3] = data[3,:,::-1].T\n",
    "        varall[32:32*2, 32*3:32*4] = data[4,:,::-1].T\n",
    "        varall[:32, 32*3:32*4] = data[5,:,::-1].T\n",
    "    elif ndim==3:\n",
    "        varall[:, 32:32*2, :32] = data[0]\n",
    "        varall[:, 32:32*2, 32:32*2] = data[1]\n",
    "        varall[:, 32*2:32*3, 32:32*2] = data[2]\n",
    "        varall[:, 32:32*2, 32*2:32*3] = data[3,:,:,::-1].transpose([0,2,1])\n",
    "        varall[:, 32:32*2, 32*3:32*4] = data[4,:,:,::-1].transpose([0,2,1])\n",
    "        varall[:, :32, 32*3:32*4] = data[5,:,:,::-1].transpose([0,2,1])\n",
    "    \n",
    "    return varall, data"
   ]
  }
 ],
 "metadata": {
  "kernelspec": {
   "display_name": "Python 3",
   "language": "python",
   "name": "python3"
  },
  "language_info": {
   "codemirror_mode": {
    "name": "ipython",
    "version": 3
   },
   "file_extension": ".py",
   "mimetype": "text/x-python",
   "name": "python",
   "nbconvert_exporter": "python",
   "pygments_lexer": "ipython3",
   "version": "3.8.8"
  }
 },
 "nbformat": 4,
 "nbformat_minor": 2
}
